{
 "cells": [
  {
   "cell_type": "markdown",
   "metadata": {},
   "source": [
    "# Analysis and Prediction of Airline Delays in 2019\n",
    "Authors: Siddharth Balodi, Charles Benkard, Mikel Ibarra Gallardo, and Stephanie Ta"
   ]
  },
  {
   "cell_type": "markdown",
   "metadata": {},
   "source": [
    "## Summary"
   ]
  },
  {
   "cell_type": "markdown",
   "metadata": {},
   "source": [
    "In this project, we delve into a 2019 airline delays dataset to dissect the intricate factors contributing to flight disruptions. Our analysis aims to address pivotal questions, such as what are the primary drivers behind flight delays and cancellations? Are certain airlines or airports more vulnerable to these disruptions? How do external factors like adverse weather conditions or air traffic congestion exacerbate flight schedules? While previous studies have touched upon aspects of flight disruptions, we endeavor to provide a deeper understanding through the lens of  analytical techniques, including descriptive statistics, data visualization, and machine learning algorithms (specifically KNN classification).\n",
    "\n",
    "Through our exploration, we have unearthed compelling insights. We have found that airport congestion, inclement weather, and airline operational issues are key contributors to flight disruptions. Furthermore, our analysis has revealed disparities in performance among airlines and airports, shedding light on areas ripe for operational enhancements and service improvements. By leveraging these findings, stakeholders within the aviation industry can make informed decisions aimed at minimizing disruptions and enhancing overall operational efficiency.\n",
    "\n",
    "The significance of our research extends beyond the realm of academia. By unraveling the complexities of flight disruptions, we aim to empower decision-makers with actionable insights to navigate the challenges inherent in air travel. Moreover, our findings hold the potential to drive positive change within the aviation industry, ultimately leading to a more seamless and reliable travel experience for passengers worldwide."
   ]
  },
  {
   "cell_type": "markdown",
   "metadata": {},
   "source": [
    "## Introduction"
   ]
  },
  {
   "cell_type": "markdown",
   "metadata": {},
   "source": [
    "The airline industry plays a vital role in global transportation, yet it faces challenges such as flight delays which can inconvenience passengers and disrupt travel plans. In this project, we aim to conduct a comprehensive analysis of airline delays using the 2019 dataset sourced from [Kaggle](https://www.kaggle.com/datasets/threnjen/2019-airline-delays-and-cancellations). This dataset provides detailed information about flight delays, reasons for delays, and other relevant factors across various airlines operating in the United States of America in 2019. Our analysis will focus on identifying patterns, trends, and factors contributing to delays and cancellations, with the ultimate goal of gaining and providing insights to help airlines optimize their operations, improve punctuality, and enhance customer satisfaction. Through this project, we aim to contribute valuable insights to the aviation industry and provide actionable recommendations for mitigating delays and cancellations, ultimately improving the travel experience for passengers."
   ]
  },
  {
   "cell_type": "markdown",
   "metadata": {},
   "source": [
    "## Methods and Results"
   ]
  },
  {
   "cell_type": "markdown",
   "metadata": {},
   "source": [
    "To start, we will import the required libraries for our analysis, set the random state to generate reproducible results, and read in the data."
   ]
  },
  {
   "cell_type": "code",
   "execution_count": 7,
   "metadata": {},
   "outputs": [
    {
     "ename": "ModuleNotFoundError",
     "evalue": "No module named 'altair'",
     "output_type": "error",
     "traceback": [
      "\u001b[1;31m---------------------------------------------------------------------------\u001b[0m",
      "\u001b[1;31mModuleNotFoundError\u001b[0m                       Traceback (most recent call last)",
      "Cell \u001b[1;32mIn[7], line 2\u001b[0m\n\u001b[0;32m      1\u001b[0m \u001b[38;5;66;03m# import required libraries for analysis\u001b[39;00m\n\u001b[1;32m----> 2\u001b[0m \u001b[38;5;28;01mimport\u001b[39;00m \u001b[38;5;21;01maltair\u001b[39;00m \u001b[38;5;28;01mas\u001b[39;00m \u001b[38;5;21;01malt\u001b[39;00m\n\u001b[0;32m      3\u001b[0m \u001b[38;5;28;01mimport\u001b[39;00m \u001b[38;5;21;01mpandas\u001b[39;00m \u001b[38;5;28;01mas\u001b[39;00m \u001b[38;5;21;01mpd\u001b[39;00m\n\u001b[0;32m      4\u001b[0m \u001b[38;5;28;01mimport\u001b[39;00m \u001b[38;5;21;01mnumpy\u001b[39;00m \u001b[38;5;28;01mas\u001b[39;00m \u001b[38;5;21;01mnp\u001b[39;00m\n",
      "\u001b[1;31mModuleNotFoundError\u001b[0m: No module named 'altair'"
     ]
    }
   ],
   "source": [
    "# import required libraries for analysis\n",
    "import altair as alt\n",
    "import pandas as pd\n",
    "import numpy as np\n",
    "import sklearn\n",
    "from sklearn.model_selection import train_test_split\n",
    "from sklearn.dummy import DummyClassifier\n",
    "from sklearn.model_selection import train_test_split, cross_validate, GridSearchCV, RandomizedSearchCV\n",
    "from sklearn.preprocessing import (FunctionTransformer, Normalizer, OneHotEncoder, StandardScaler, normalize, scale)\n",
    "from sklearn.compose import make_column_transformer\n",
    "from sklearn.metrics import make_scorer\n",
    "from sklearn.metrics import accuracy_score, precision_score, recall_score, f1_score\n",
    "from sklearn.pipeline import Pipeline, make_pipeline\n",
    "from sklearn.neighbors import KNeighborsClassifier\n",
    "from sklearn.metrics import  confusion_matrix, ConfusionMatrixDisplay, classification_report\n",
    "\n",
    "# set random state to have reproducible results\n",
    "random_state=12\n",
    "\n",
    "# read in data\n",
    "raw_full_flight_data <- pd.read_csv(\"../data/raw/full_data_flightdelay.csv\")"
   ]
  },
  {
   "cell_type": "markdown",
   "metadata": {},
   "source": [
    "Let's see how big the data set is."
   ]
  },
  {
   "cell_type": "code",
   "execution_count": 8,
   "metadata": {},
   "outputs": [
    {
     "ename": "NameError",
     "evalue": "name 'raw_full_flight_data' is not defined",
     "output_type": "error",
     "traceback": [
      "\u001b[1;31m---------------------------------------------------------------------------\u001b[0m",
      "\u001b[1;31mNameError\u001b[0m                                 Traceback (most recent call last)",
      "Cell \u001b[1;32mIn[8], line 1\u001b[0m\n\u001b[1;32m----> 1\u001b[0m \u001b[43mraw_full_flight_data\u001b[49m\u001b[38;5;241m.\u001b[39mshape\n",
      "\u001b[1;31mNameError\u001b[0m: name 'raw_full_flight_data' is not defined"
     ]
    }
   ],
   "source": [
    "raw_full_flight_data.shape"
   ]
  },
  {
   "cell_type": "markdown",
   "metadata": {},
   "source": [
    "There are 6,489,062 observations in the raw data set. Since such a large data set will take a lot of computing power and time, we will take sample of the data (20,000 observations) and use it in our analysis."
   ]
  },
  {
   "cell_type": "code",
   "execution_count": null,
   "metadata": {},
   "outputs": [],
   "source": [
    "# sample 20,000 observations from the raw data set\n",
    "raw_sample_flight_data = raw_full_flight_data.sample(n=20000, random_state=12)\n",
    "\n",
    "# save the sample data set\n",
    "raw_sample_flight_data.to_csv(\"../data/processed/raw_sample_flight_data.csv\")\n",
    "\n",
    "# check shape of sample to confirm the sampling worked\n",
    "raw_sample_flight_data.shape"
   ]
  },
  {
   "cell_type": "markdown",
   "metadata": {},
   "source": [
    "Let's clean our sample data by only keeping the features of interest and the target column in our data.  \n",
    "\n",
    "Features:\n",
    "- Month (`MONTH`)\n",
    "- Day of Week (`DAY_OF_WEEK`)\n",
    "- Number of concurrent flights leaving from the airport in the same departure block (`CONCURRENT_FLIGHTS`)\n",
    "- Carrier (`CARRIER_NAME`)\n",
    "- Number of flight attendants per passenger (`FLT_ATTENDANTS_PER_PASS`)\n",
    "- Number of ground service employees (service desk) per passenger (`GROUND_SERV_PER_PASS`)\n",
    "- Age of departing aircraft (`PLANE_AGE`)\n",
    "- Inches of snowfall on departure day (`SNOW`)\n",
    "- Max wind speed on departure day (`AWND`)\n",
    "\n",
    "Target:\n",
    "- If the departing flight is delayed over 15 minutes or not (`DEP_DEL15`, `0` = no and `1` = yes)\n",
    "\n",
    "Then, we'll split the data into training and testing sets."
   ]
  },
  {
   "cell_type": "code",
   "execution_count": null,
   "metadata": {},
   "outputs": [],
   "source": [
    "# list of features and target (DEP_DEL15) columns\n",
    "list_of_features_and_target = ['MONTH', 'DAY_OF_WEEK', 'DEP_DEL15', 'CONCURRENT_FLIGHTS', 'CARRIER_NAME',\n",
    " 'FLT_ATTENDANTS_PER_PASS', 'GROUND_SERV_PER_PASS', 'PLANE_AGE', 'SNOW', 'AWND']\n",
    "\n",
    "# only keep the features of interest and the target column in the data set\n",
    "filtered_sample_flight_data = raw_sample_flight_data[list_of_features_and_target]\n",
    "\n",
    "# save the filtered sample data set\n",
    "filtered_sample_flight_data.to_csv(\"../data/processed/filtered_sample_flight_data.csv\")\n",
    "\n",
    "# split filtered sample data into training and testing splits.\n",
    "flight_train, flight_test = train_test_split(filtered_sample_flight_data, test_size=0.2, random_state=12, stratify=filtered_sample_flight_data[\"DEP_DEL15\"])"
   ]
  },
  {
   "cell_type": "markdown",
   "metadata": {},
   "source": [
    "### Exploratory Data Analysis"
   ]
  },
  {
   "cell_type": "markdown",
   "metadata": {},
   "source": [
    "Let's preview the testing set and have a look at some information about the data."
   ]
  },
  {
   "cell_type": "code",
   "execution_count": null,
   "metadata": {},
   "outputs": [],
   "source": [
    "flight_train.head()"
   ]
  },
  {
   "cell_type": "markdown",
   "metadata": {},
   "source": [
    "*Table 1. Preview of the training flight data.*"
   ]
  },
  {
   "cell_type": "code",
   "execution_count": null,
   "metadata": {},
   "outputs": [],
   "source": [
    "flight_train.info()"
   ]
  },
  {
   "cell_type": "markdown",
   "metadata": {},
   "source": [
    "We can see that there are no null values in any of the columns. To gain more insight into the training data, the following data visualizations were made to see the distribution of the different feature variables and target variable."
   ]
  },
  {
   "cell_type": "code",
   "execution_count": null,
   "metadata": {},
   "outputs": [],
   "source": [
    "# distributions of numeric columns\n",
    "\n",
    "# make histogram function for the numeric columns\n",
    "def make_histogram(data, column: str, x_title: str, w = 250, h = 150):\n",
    "    \"\"\"\n",
    "    Given a dataset (data), a column of the dataset for the x-axis (column), the desired x-axis title (x_title),\n",
    "    and the desired width and height, returns a histogram showing the distribution of values in the column.\n",
    "    \"\"\"\n",
    "    numeric_plot = alt.Chart(data, width = w, height = h\n",
    "              ).mark_bar(\n",
    "              ).encode(\n",
    "                  x = alt.X(column, title = x_title, bin = alt.Bin(maxbins=30)),\n",
    "                  y = alt.Y(\"count()\", title = \"Number of Flights\")\n",
    "                  )\n",
    "    return numeric_plot\n",
    "\n",
    "# make a list of the numeric columns in the dataset\n",
    "numeric_columns = ['CONCURRENT_FLIGHTS', 'FLT_ATTENDANTS_PER_PASS',\n",
    "                    'GROUND_SERV_PER_PASS', 'PLANE_AGE', 'SNOW', 'AWND']\n",
    "\n",
    "# list of titles for each histogram\n",
    "histogram_titles = [\"Number of Concurrent Flights From the Same Departure Block\", \"Number of Flight Attendents per Passenger\", \n",
    "                    \"Number of Ground Service Employees per Passenger\", \"Plane Age (years)\", \"Snowfall on Departure Day (inches)\",\n",
    "                    \"Maximum wind speed on departure day (miles/hr)\"]\n",
    "\n",
    "# make histograms for each numeric column\n",
    "numeric_plots = [] # accumulates the numeric plots made so far\n",
    "for x in range(len(numeric_columns)):\n",
    "    numeric_plots.append(make_histogram(flight_train, numeric_columns[x-1], histogram_titles[x-1]))\n",
    "    \n",
    "# display histograms\n",
    "alt.data_transformers.disable_max_rows()\n",
    "((numeric_plots[0] | numeric_plots[1]\n",
    " ) & (numeric_plots[2] | numeric_plots[3]\n",
    "      ) & (numeric_plots[4] | numeric_plots[5])).properties(title = \"Distribution of Numeric Columns in the Training Dataset\")"
   ]
  },
  {
   "cell_type": "markdown",
   "metadata": {},
   "source": [
    "*Figure 1. Distribution of numeric columns in the training dataset*"
   ]
  },
  {
   "cell_type": "code",
   "execution_count": null,
   "metadata": {},
   "outputs": [],
   "source": [
    "# distributions of categorical columns\n",
    "\n",
    "# make frequency charts for categorical columns\n",
    "month_plot = alt.Chart(flight_train, width = 280, height = 200\n",
    "                     ).mark_bar(size=13\n",
    "                     ).encode(\n",
    "                         x = alt.X(\"MONTH\", title = \"Month\"),\n",
    "                         y = alt.Y(\"count()\", title = \"Number of Flights\"),\n",
    "                         tooltip = alt.Tooltip(\"count()\")\n",
    "                         )\n",
    "\n",
    "day_of_week_plot  = alt.Chart(flight_train, width = 280, height = 200\n",
    "                     ).mark_bar(size = 13\n",
    "                     ).encode(\n",
    "                         x = alt.X(\"DAY_OF_WEEK\", title = \"Day of the Week\"),\n",
    "                         y = alt.Y(\"count()\", title = \"Number of Flights\"),\n",
    "                         tooltip = alt.Tooltip(\"count()\")\n",
    "                         )\n",
    "\n",
    "carrier_plot  = alt.Chart(flight_train, width = 400, height = 200\n",
    "                     ).mark_bar(\n",
    "                     ).encode(\n",
    "                         x = alt.X(\"CARRIER_NAME\", title = \"Air Carrier\"),\n",
    "                         y = alt.Y(\"count()\", title = \"Number of Flights\"),\n",
    "                         tooltip = alt.Tooltip(\"count()\")\n",
    "                         )\n",
    "\n",
    "delay_plot  = alt.Chart(flight_train, width = 100, height = 200\n",
    "                     ).mark_bar(size = 20\n",
    "                     ).encode(\n",
    "                         x = alt.X(\"DEP_DEL15\", title = \"Flight Departure Delay (0 = no, 1 = yes)\"),\n",
    "                         y = alt.Y(\"count()\", title = \"Number of Flights\"),\n",
    "                         tooltip = alt.Tooltip(\"count()\")\n",
    "                         )\n",
    "\n",
    "# display frequency charts\n",
    "alt.data_transformers.disable_max_rows()\n",
    "((month_plot | day_of_week_plot) & (carrier_plot | delay_plot)).properties(title = \"Distribution of Categorical Columns in the Training Dataset\")"
   ]
  },
  {
   "cell_type": "markdown",
   "metadata": {},
   "source": [
    "*Figure 2. Distribution of numeric columns in the training dataset*"
   ]
  },
  {
   "cell_type": "markdown",
   "metadata": {},
   "source": [
    "### Preprocessing the Data"
   ]
  },
  {
   "cell_type": "markdown",
   "metadata": {},
   "source": [
    "Since the KNN algorithm uses Euclidian distance to determine how similar data points are to each cluster center, we will center and scale each numeric feature in our preprocessing so they have the same effect on deciding cluster assignment. We will consider the `month` and `day of the week` as numeric features, as they are represented in the dataset to preserve the ordinal element -- however we will concede that this would make the model consider Saturday (`7`) and Sunday (`1`) as far apart. This won't be a problem for the `months` since the data only has observations from 2019.  \n",
    "\n",
    "Saturdays and Sundays should be considered closer together since they are on weekends, we will change Sundays' value to `8`. The model will consider Sundays and Mondays to be further apart as a result, but we feel that this is a better trade-off.\n",
    "\n",
    "To allow our categorical features to be used as predictors, we will preprocess them using one-hot encoding.\n",
    "\n",
    "No imputation is needed since there are no missing values in the dataset."
   ]
  },
  {
   "cell_type": "code",
   "execution_count": null,
   "metadata": {},
   "outputs": [],
   "source": [
    "# replace Sunday's value from 1 to 8, to be closer to Saturday's value (7)\n",
    "flight_train.loc[flight_train['DAY_OF_WEEK']==1, 'DAY_OF_WEEK']=8\n",
    "flight_test.loc[flight_test['DAY_OF_WEEK']==1, 'DAY_OF_WEEK']=8\n",
    "\n",
    "# save taining and test splits.\n",
    "flight_train.to_csv(\"../data/processed/training_flight_data.csv\")\n",
    "flight_test.to_csv(\"../data/processed/testing_flight_data.csv\")\n",
    "\n",
    "# check if the replacement worked\n",
    "print(flight_train['DAY_OF_WEEK'].describe(), flight_test['DAY_OF_WEEK'].describe())"
   ]
  },
  {
   "cell_type": "code",
   "execution_count": null,
   "metadata": {},
   "outputs": [],
   "source": [
    "# separate feature vectors from target\n",
    "X_train = flight_train.drop(columns = [\"DEP_DEL15\"])\n",
    "y_train = flight_train[\"DEP_DEL15\"]\n",
    "X_test = flight_test.drop(columns = [\"DEP_DEL15\"])\n",
    "y_test = flight_test[\"DEP_DEL15\"]\n",
    "\n",
    "# preprocess features\n",
    "numeric_features = ['MONTH', 'DAY_OF_WEEK', 'CONCURRENT_FLIGHTS', 'FLT_ATTENDANTS_PER_PASS',\n",
    "                    'GROUND_SERV_PER_PASS', 'PLANE_AGE', 'SNOW', 'AWND']\n",
    "numeric_transformer = make_pipeline(StandardScaler())\n",
    "\n",
    "categorical_features = ['CARRIER_NAME']\n",
    "categorical_transformer = make_pipeline(OneHotEncoder(sparse_output=False, dtype='int'))\n",
    "\n",
    "preprocessor = make_column_transformer((numeric_transformer, numeric_features),\n",
    "                                       (categorical_transformer, categorical_features))\n",
    "\n",
    "X_train = preprocessor.fit_transform(X_train)\n",
    "X_test = preprocessor.transform(X_test)"
   ]
  },
  {
   "cell_type": "markdown",
   "metadata": {},
   "source": [
    "### Baseline Model"
   ]
  },
  {
   "cell_type": "markdown",
   "metadata": {},
   "source": [
    "To create a baseline model to compare the final KNN model to, we will make a DummyClassifier that will randomly predict if the flight departure will be delayed or not, at a frequency respective to its distribution in the training data."
   ]
  },
  {
   "cell_type": "code",
   "execution_count": null,
   "metadata": {},
   "outputs": [],
   "source": [
    "# create baseline model to compare final model to\n",
    "scoring = {'accuracy': 'accuracy',\n",
    "           'precision': make_scorer(precision_score, pos_label=1),\n",
    "           'recall': make_scorer(recall_score, pos_label=1),\n",
    "           'f1': make_scorer(f1_score, pos_label=1) }\n",
    "\n",
    "dummy_classifier = DummyClassifier(strategy = \"stratified\", random_state = 12)\n",
    "\n",
    "dummy_scores = pd.DataFrame(\n",
    "    cross_validate(\n",
    "        dummy_classifier, X_train, y_train, cv = 5, return_train_score = True, scoring = scoring\n",
    "    )\n",
    ")\n",
    "\n",
    "dummy_mean = dummy_scores.mean()\n",
    "dummy_mean"
   ]
  },
  {
   "cell_type": "markdown",
   "metadata": {},
   "source": [
    "As shown above, the DummyClassifier has a validation score of 69.6%"
   ]
  },
  {
   "cell_type": "markdown",
   "metadata": {},
   "source": [
    "### KNN Classifier"
   ]
  },
  {
   "cell_type": "markdown",
   "metadata": {},
   "source": [
    "#### Parameter Tuning"
   ]
  },
  {
   "cell_type": "markdown",
   "metadata": {},
   "source": [
    "To find the optimal value of k that maximizes the accuracy of the model, we will use 5-fold cross-validation for values of k from 10 to 40, in increments of 2."
   ]
  },
  {
   "cell_type": "code",
   "execution_count": null,
   "metadata": {},
   "outputs": [],
   "source": [
    "# find the k value that yields the best accuracy estimate\n",
    "results_dict = {\n",
    "    \"n_neighbors\": [],\n",
    "    \"mean_train_score\": [],\n",
    "    \"mean_cv_score\": []}\n",
    "\n",
    "for n in range(10,41, 2):\n",
    "    knn_model = KNeighborsClassifier(n_neighbors=n)\n",
    "    cv_scores = cross_validate(knn_model, X_train, y_train, cv=5, return_train_score=True)\n",
    "    results_dict[\"n_neighbors\"].append(n)\n",
    "    results_dict[\"mean_train_score\"].append(cv_scores[\"train_score\"].mean())\n",
    "    results_dict[\"mean_cv_score\"].append(cv_scores[\"test_score\"].mean())\n",
    "\n",
    "results_df = pd.DataFrame(results_dict)\n",
    "\n",
    "results_df.sort_values(by=[\"mean_cv_score\"], ascending=False).head(1)"
   ]
  },
  {
   "cell_type": "code",
   "execution_count": null,
   "metadata": {},
   "outputs": [],
   "source": [
    "best_k = int(results_df.loc[results_df['mean_cv_score'].idxmax()]['n_neighbors'])\n",
    "best_k"
   ]
  },
  {
   "cell_type": "markdown",
   "metadata": {},
   "source": [
    "As shown above, 34 is the best k value from 10 to 40 in increments of 2 and yields a validation score of 81.1% which is higher compared to the validation score of the DummyClassifier (69.6%)."
   ]
  },
  {
   "cell_type": "markdown",
   "metadata": {},
   "source": [
    "#### Training and Testing"
   ]
  },
  {
   "cell_type": "code",
   "execution_count": null,
   "metadata": {},
   "outputs": [],
   "source": [
    "# make new model with best k\n",
    "best_model = KNeighborsClassifier(n_neighbors=best_k)\n",
    "\n",
    "# retrain classifier\n",
    "best_model.fit(X_train, y_train)\n",
    "\n",
    "# get predictions on test data\n",
    "best_model.predict(X_test)\n",
    "\n",
    "# get estimate of accuracy of classifier on test data\n",
    "test_score = best_model.score(X_test, y_test)\n",
    "test_score"
   ]
  },
  {
   "cell_type": "markdown",
   "metadata": {},
   "source": [
    "The accuracy score of the knn classifier with k=34 on the test set is 81.1%."
   ]
  },
  {
   "cell_type": "markdown",
   "metadata": {},
   "source": [
    "#### Exploring the Model"
   ]
  },
  {
   "cell_type": "markdown",
   "metadata": {},
   "source": [
    "Let’s explore the model with more visualizations."
   ]
  },
  {
   "cell_type": "code",
   "execution_count": null,
   "metadata": {},
   "outputs": [],
   "source": [
    "predictions = best_model.predict(X_test)\n",
    "\n",
    "# make the predictions into a dataframe and rename the prediction column to \"prediction\"\n",
    "prediction_df = pd.DataFrame(predictions)\n",
    "prediction_df = prediction_df.rename(columns={prediction_df.columns[0]:'prediction'})\n",
    "\n",
    "# reset index of testing dataframe\n",
    "flight_test = flight_test.reset_index()\n",
    "\n",
    "# concatenate the prediction dataframe to the testing dataframe\n",
    "flight_test_predict = pd.concat([flight_test, prediction_df], axis=1)\n",
    "\n",
    "# replace numeric month, day of the week, prediction, and truth values with strings\n",
    "flight_test_predict[\"MONTH\"] = flight_test_predict[\"MONTH\"].replace({1:\"Jan\", 2:\"Feb\", 3:\"Mar\", 4:\"Apr\",\n",
    "                                                                     5:\"May\", 6:\"Jun\", 7:\"Jul\", 8:\"Aug\",\n",
    "                                                                     9:\"Sep\", 10:\"Oct\", 11:\"Nov\", 12:\"Dec\"})\n",
    "flight_test_predict[\"DAY_OF_WEEK\"] = flight_test_predict[\"DAY_OF_WEEK\"].replace({2:\"Mon\", 3:\"Tue\", 4:\"Wed\",\n",
    "                                                                     5:\"Thu\", 6:\"Fri\", 7:\"Sat\", 8:\"Sun\"})\n",
    "flight_test_predict[\"prediction\"] = flight_test_predict[\"prediction\"].replace({0:\"not delayed\", 1:\"delayed\"})\n",
    "flight_test_predict[\"DEP_DEL15\"] = flight_test_predict[\"DEP_DEL15\"].replace({0:\"not delayed\", 1:\"delayed\"})\n",
    "\n",
    "# preview the testing dataframe with the model predictions\n",
    "flight_test_predict.head()"
   ]
  },
  {
   "cell_type": "markdown",
   "metadata": {},
   "source": [
    "*Table 2. Preview of the testing data with the model predictions*"
   ]
  },
  {
   "cell_type": "code",
   "execution_count": null,
   "metadata": {},
   "outputs": [],
   "source": [
    "# make month vs prediction and actual plot\n",
    "\n",
    "month_vs_prediction = alt.Chart(flight_test_predict, width = 300, height = 200, title = \"Month and Predicted Flight Delay\"\n",
    "                               ).mark_bar().encode(\n",
    "                                   x = alt.X(\"MONTH\", title = \"Month\", axis=alt.Axis(labelAngle=0),\n",
    "                                             sort=[\"Jan\", \"Feb\", \"Mar\", \"Apr\",\n",
    "                                                    \"May\", \"Jun\", \"Jul\", \"Aug\",\n",
    "                                                    \"Sep\", \"Oct\", \"Nov\", \"Dec\"]),\n",
    "                                   xOffset=\"prediction\",\n",
    "                                   y = alt.Y(\"count()\", title = \"Number of Flights\"),\n",
    "                                   color = alt.Color(\"prediction\", title = \"Model Prediction\"), \n",
    "                                   tooltip = alt.Tooltip([\"count()\", \"MONTH\"])\n",
    "                               )\n",
    "\n",
    "month_vs_real = alt.Chart(flight_test_predict, width = 300, height = 200, title = \"Month and Actual Flight Delay\"\n",
    "                               ).mark_bar().encode(\n",
    "                                   x = alt.X(\"MONTH\", title = \"Month\", axis=alt.Axis(labelAngle=0),\n",
    "                                             sort=[\"Jan\", \"Feb\", \"Mar\", \"Apr\",\n",
    "                                                    \"May\", \"Jun\", \"Jul\", \"Aug\",\n",
    "                                                    \"Sep\", \"Oct\", \"Nov\", \"Dec\"]),\n",
    "                                   xOffset=\"DEP_DEL15\",\n",
    "                                   y = alt.Y(\"count()\", title = \"Number of Flights\"),\n",
    "                                   color = alt.Color(\"DEP_DEL15\", title = \"Actual\"), \n",
    "                                   tooltip = alt.Tooltip([\"count()\", \"MONTH\"])\n",
    "                               )\n",
    "\n",
    "(month_vs_prediction | month_vs_real).resolve_scale(color='independent')"
   ]
  },
  {
   "cell_type": "markdown",
   "metadata": {},
   "source": [
    "*Figure 3. Distribution of flights over the year in each month with the model's prediction of flight delay and actual flight delay.*"
   ]
  },
  {
   "cell_type": "markdown",
   "metadata": {},
   "source": [
    "January, April, October, and November were each predicted to have one delayed flight, which does not reflect the distribution of actual delayed flights over the year in the testing data. Flights were delayed relatively steady over the year (about 60 flights per month), with a peak in June that had 92 flights delayed in the testing data."
   ]
  },
  {
   "cell_type": "code",
   "execution_count": null,
   "metadata": {},
   "outputs": [],
   "source": [
    "# make day vs prediction and actual plot\n",
    "\n",
    "day_vs_prediction = alt.Chart(flight_test_predict, width = 300, height = 250, title = \"Day of the Week and Predicted Flight Delay\"\n",
    "                               ).mark_bar().encode(\n",
    "                                   x = alt.X(\"DAY_OF_WEEK\", title = \"Day of the Week\", axis=alt.Axis(labelAngle=0),\n",
    "                                             sort=[\"Sun\", \"Mon\", \"Tue\", \"Wed\", \"Thu\", \"Fri\", \"Sat\"]),\n",
    "                                   xOffset=\"prediction\",\n",
    "                                   y = alt.Y(\"count()\", title = \"Number of Flights\"),\n",
    "                                   color = alt.Color(\"prediction\", title = \"Model Prediction\"), \n",
    "                                   tooltip = alt.Tooltip([\"count()\", \"DAY_OF_WEEK\"])\n",
    "                               )\n",
    "\n",
    "day_vs_real = alt.Chart(flight_test_predict, width = 300, height = 250, title = \"Day of the Week and Actual Flight Delay\"\n",
    "                               ).mark_bar().encode(\n",
    "                                   x = alt.X(\"DAY_OF_WEEK\", title = \"Day of the Week\", axis=alt.Axis(labelAngle=0),\n",
    "                                             sort=[\"Sun\", \"Mon\", \"Tue\", \"Wed\", \"Thu\", \"Fri\", \"Sat\"]),\n",
    "                                   xOffset=\"DEP_DEL15\",\n",
    "                                   y = alt.Y(\"count()\", title = \"Number of Flights\"),\n",
    "                                   color = alt.Color(\"DEP_DEL15\", title = \"Actual\"), \n",
    "                                   tooltip = alt.Tooltip([\"count()\", \"DAY_OF_WEEK\"])\n",
    "                               )\n",
    "\n",
    "(day_vs_prediction | day_vs_real).resolve_scale(color='independent')"
   ]
  },
  {
   "cell_type": "markdown",
   "metadata": {},
   "source": [
    "*Figure 4. Distribution of flights over the days of the week with the model's prediction of flight delay and actual flight delay.*"
   ]
  },
  {
   "cell_type": "markdown",
   "metadata": {},
   "source": [
    "The long weekend (Sunday, Monday, Friday, and Saturday) were each predicted to have one delayed flight. Again, this does not reflect the distribution of actual delayed flights over the week in the testing data. Flights were delayed relatively steady over the week, with a slight peaks on Sunday-Monday and Wednesday-Tuesday in the testing data."
   ]
  },
  {
   "cell_type": "code",
   "execution_count": null,
   "metadata": {},
   "outputs": [],
   "source": [
    "# make carrier vs prediction and actual plot\n",
    "\n",
    "carrier_vs_prediction = alt.Chart(flight_test_predict, width = 400, height = 300, title = \"Flight Carriers and Predicted Flight Delay\"\n",
    "                               ).mark_bar().encode(\n",
    "                                   x = alt.X(\"CARRIER_NAME\", title = \"Airline Carrier\", axis=alt.Axis(labelAngle=-45)),\n",
    "                                   xOffset=\"prediction\",\n",
    "                                   y = alt.Y(\"count()\", title = \"Number of Flights\"),\n",
    "                                   color = alt.Color(\"prediction\", title = \"Model Prediction\"), \n",
    "                                   tooltip = alt.Tooltip([\"count()\", \"CARRIER_NAME\"])\n",
    "                               )\n",
    "\n",
    "carrier_vs_real = alt.Chart(flight_test_predict, width = 400, height = 300, title = \"Flight Carriers and Actual Flight Delay\"\n",
    "                               ).mark_bar().encode(\n",
    "                                   x = alt.X(\"CARRIER_NAME\", title = \"Airline Carrier\", axis=alt.Axis(labelAngle=-45)),\n",
    "                                   xOffset=\"DEP_DEL15\",\n",
    "                                   y = alt.Y(\"count()\", title = \"Number of Flights\"),\n",
    "                                   color = alt.Color(\"DEP_DEL15\", title = \"Actual\"), \n",
    "                                   tooltip = alt.Tooltip([\"count()\", \"CARRIER_NAME\"])\n",
    "                               )\n",
    "\n",
    "(carrier_vs_prediction | carrier_vs_real).resolve_scale(color='independent')"
   ]
  },
  {
   "cell_type": "markdown",
   "metadata": {},
   "source": [
    "*Figure 5. Distribution of flights over the different air carriers with the model's prediction of flight delay and actual flight delay.*"
   ]
  },
  {
   "cell_type": "markdown",
   "metadata": {},
   "source": [
    "Delta Airlines Inc., Midwest Airline Inc., Southwest Airlines Co., and Spirit Air Lines were each predicts to have one delayed flight. Once again, this doesn't quite capture the actual delay patterns in the testing data. In the testing data, each airline had *some* delayed flights and the following airlines had the most delayed flights: Southwest Airlines Co., American Airlines Inc., Delta Air Lines Inc., United Air Lines Inc., and SkyWest Airlines Inc."
   ]
  },
  {
   "cell_type": "code",
   "execution_count": null,
   "metadata": {},
   "outputs": [],
   "source": [
    "# make interactive viz for numeric features vs. month\n",
    "\n",
    "# disable max rows check\n",
    "alt.data_transformers.disable_max_rows()\n",
    "\n",
    "# melt dataframe so the numeric features can be put in a drop-down selection\n",
    "melt_flight_predict = flight_test_predict.melt(id_vars=['MONTH', 'DAY_OF_WEEK', 'DEP_DEL15', 'CARRIER_NAME', 'prediction', 'index'])\n",
    "\n",
    "# make dropdown options\n",
    "dropdown_options = ['CONCURRENT_FLIGHTS', 'FLT_ATTENDANTS_PER_PASS', 'GROUND_SERV_PER_PASS', 'PLANE_AGE', 'SNOW', 'AWND']\n",
    "\n",
    "# make dropdown widget and selection for numeric features\n",
    "dropdown_numeric_variable = alt.binding_select(options=dropdown_options, name='Y-axis feature')\n",
    "selection = alt.selection_single(\n",
    "    fields=['variable'],\n",
    "    bind=dropdown_numeric_variable)\n",
    "\n",
    "# make interactive viz\n",
    "drop_down_chart = alt.Chart(melt_flight_predict, width = 1000, height = 400\n",
    "                               ).mark_circle(opacity=0.4).encode(\n",
    "                                   y = alt.X('value:Q', title=\"\"),\n",
    "                                   x = alt.Y('MONTH', title=\"Month\", sort=[\"Jan\", \"Feb\", \"Mar\", \"Apr\",\n",
    "                                                                     \"May\", \"Jun\", \"Jul\", \"Aug\",\n",
    "                                                                     \"Sep\", \"Oct\", \"Nov\", \"Dec\"]),\n",
    "                                   color = alt.Color('prediction', title=\"Model Prediction\")\n",
    "                               ).add_selection(selection).transform_filter(selection)\n",
    "drop_down_chart.display()"
   ]
  },
  {
   "cell_type": "markdown",
   "metadata": {},
   "source": [
    "*Figure 6. Interactive plot of flight month vs. selected numeric feature and the model's prediction if the flight will be delayed or not.*"
   ]
  },
  {
   "cell_type": "markdown",
   "metadata": {},
   "source": [
    "In the above plot, we can explore the flight month  vs. the different numeric features and the model's prediction if the flight will be delayed or not.  \n",
    "\n",
    "**Number of concurrent flights from the same departure block, number of flight attendants per passenger, number of ground service employees per passenger, plane age (years), maximum wind speed on departure day (miles/hr)** do not seem to be associated with the model's prediction.  \n",
    "\n",
    "Meanwhile, it appears that very large amounts of **snowfall on departure day (inches)** tended to be associated with predicted flight delay while smaller amounts were associated with predicted flight non-delay.\n",
    "\n",
    "Overall, it appears that our model tends to predict that a flight will not be delayed."
   ]
  },
  {
   "cell_type": "markdown",
   "metadata": {},
   "source": [
    "## Discussion"
   ]
  },
  {
   "cell_type": "markdown",
   "metadata": {},
   "source": [
    "Even though for the most part, the model which we created predicts that flights will not be delayed, it is crucial that it has still been predicting instances where it they could be delayed. Since this is the case, it means that the model can be implemented in multiple different ways. Since this is a sort of \"special case\" prediction, it makes the model all the more valuable as it can be used to save people stress, time, or even money. Due to its versatility, we came up with a couple of different options of how it could be used, but still it could be used even more than these.\n",
    "\n",
    "The first way which we came up is as an alarm. Airlines have become better at notifying their passengers that a flight is delayed, with many notifying with different means such as text, email, or maybe even through their own application besides through announcements at the airport. This can be a major disruption to those having a meal, who need food, or who even may need to use the restroom. The model could possibly be implemented into the aforementioned application and give a \"prediction\" of whether or not a flight will be delayed based on the existing conditions. That way, airlines could warn their passengers of the possibility of a delay in order for them to have more time more of a grasp of the time they have before a possible announcement.\n",
    "\n",
    "The second form that we thought of was when booking tickets themselves. While storms and blizzards cannot be predicted, for the most part, weather patterns tend to be similar in the same time period of every year. It is more likely to receive snowfall in the middle of winter than at the end of spring. Because of this, when someone is booking a flight could be associated with whether or not delays could happen based on previous years. Once again this could help customers or even travel agents, if this method is to be more privatized, in booking flights in order to fly on a \"safer\" day or in one where something as bothersome as a flight delay has a lower chance of happening. Now it is important to note that we are classifying whether or not a flight is delayed, not predicting the probability of the latter happening. However, even the yes or no can still be useful to those buying tickets to try to plan better, or even on the end of the companies to provide discounts in the \"riskier\" days.\n",
    "\n",
    "Finally, we thought of the possibility of it being implemented into airports. These delays are happening somewhere, obviously, and they need to be addressed by the companies and workers at these locations. While no workspace or workflow can be perfect, there are steps that can be taken to be better prepared so that their impact is not as bothersome. If a day is predicted to have delays, or if the prediction changes when the weather or other conditions change as well, airports can implement these allocations such as having more spots open, aid for passengers, more workers, etc. to attempt to handle the situation as best as possible.\n",
    "\n",
    "When looking forward which what could be done with our model, we think it could be beneficial to pair it with a prediction model for something such as weather. Also, delays are one thing to deal with, cancellations are another which is even more bothersome. If this model is valuable, the same argument (or maybe even a better one) can be made for a model that predicts flight cancellations."
   ]
  },
  {
   "cell_type": "markdown",
   "metadata": {},
   "source": [
    "## References\n",
    "Harris, C. R., Millman, K. J., van der Walt, S. J., Gommers, R., Virtanen, P., Cournapeau, D., … Oliphant, T. E. (2020). Array programming with NumPy. *Nature*, 585, 357–362. https://doi.org/10.1038/s41586-020-2649-2\n",
    "\n",
    "McKinney, W., & others. (2010). Data structures for statistical computing in python. *Proceedings of the 9th Python in Science Conference* (Vol. 445, pp. 51–56).\n",
    "\n",
    "Pedregosa, F., Varoquaux, Ga\"el, Gramfort, A., Michel, V., Thirion, B., Grisel, O., … others. (2011). Scikit-learn: Machine learning in Python. *Journal of Machine Learning Research*, 12(Oct), 2825–2830.\n",
    "\n",
    "VanderPlas, J., Granger, B., Heer, J., Moritz, D., Wongsuphasawat, K., Satyanarayan, A., … Sievert, S. (2018). Altair: Interactive statistical visualizations for python. *Journal of Open Source Software*, 3(32), 1057.\n",
    "\n",
    "Wadkins, J. (2022, January 17). 2019 airline delays w/weather and airport detail. Kaggle. https://www.kaggle.com/datasets/threnjen/2019-airline-delays-and-cancellations "
   ]
  }
 ],
 "metadata": {
  "kernelspec": {
   "display_name": "Python 3 (ipykernel)",
   "language": "python",
   "name": "python3"
  },
  "language_info": {
   "codemirror_mode": {
    "name": "ipython",
    "version": 3
   },
   "file_extension": ".py",
   "mimetype": "text/x-python",
   "name": "python",
   "nbconvert_exporter": "python",
   "pygments_lexer": "ipython3",
   "version": "3.11.4"
  }
 },
 "nbformat": 4,
 "nbformat_minor": 4
}
