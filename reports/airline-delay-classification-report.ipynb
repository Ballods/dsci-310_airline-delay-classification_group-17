{
 "cells": [
  {
   "cell_type": "markdown",
   "metadata": {},
   "source": [
    "# Title"
   ]
  },
  {
   "cell_type": "markdown",
   "metadata": {},
   "source": [
    "## Summary"
   ]
  },
  {
   "cell_type": "markdown",
   "metadata": {},
   "source": [
    "## Introduction"
   ]
  },
  {
   "cell_type": "markdown",
   "metadata": {},
   "source": [
    "## Methods and Results"
   ]
  },
  {
   "cell_type": "markdown",
   "metadata": {},
   "source": [
    "To start, we will import the required libraries for our analysis, set the random state to generate reproducible results, and read in the data."
   ]
  },
  {
   "cell_type": "code",
   "execution_count": 1,
   "metadata": {},
   "outputs": [],
   "source": [
    "# import required libraries for analysis\n",
    "import altair as alt\n",
    "import pandas as pd\n",
    "import numpy as np\n",
    "import sklearn\n",
    "from sklearn.model_selection import train_test_split\n",
    "from sklearn.dummy import DummyClassifier\n",
    "from sklearn.model_selection import train_test_split, cross_validate, GridSearchCV, RandomizedSearchCV\n",
    "from sklearn.preprocessing import (FunctionTransformer, Normalizer, OneHotEncoder, StandardScaler, normalize, scale)\n",
    "from sklearn.compose import make_column_transformer\n",
    "from sklearn.metrics import make_scorer\n",
    "from sklearn.metrics import accuracy_score, precision_score, recall_score, f1_score\n",
    "from sklearn.pipeline import Pipeline, make_pipeline\n",
    "from sklearn.neighbors import KNeighborsClassifier\n",
    "from sklearn.metrics import  confusion_matrix, ConfusionMatrixDisplay, classification_report\n",
    "\n",
    "# set random state to have reproducible results\n",
    "random_state=12\n",
    "\n",
    "# read in data\n",
    "raw_full_flight_data = pd.read_csv(\"../data/raw/full_data_flightdelay.csv\")"
   ]
  },
  {
   "cell_type": "markdown",
   "metadata": {},
   "source": [
    "Let's see how big the data set is."
   ]
  },
  {
   "cell_type": "code",
   "execution_count": 2,
   "metadata": {},
   "outputs": [
    {
     "data": {
      "text/plain": [
       "(6489062, 26)"
      ]
     },
     "execution_count": 2,
     "metadata": {},
     "output_type": "execute_result"
    }
   ],
   "source": [
    "raw_full_flight_data.shape"
   ]
  },
  {
   "cell_type": "markdown",
   "metadata": {},
   "source": [
    "There are 6,489,062 observations in the raw data set. Since such a large data set will take a lot of computing power and time, we will take sample of the data (20,000 observations) and use it in our analysis."
   ]
  },
  {
   "cell_type": "code",
   "execution_count": 3,
   "metadata": {},
   "outputs": [
    {
     "data": {
      "text/plain": [
       "(20000, 26)"
      ]
     },
     "execution_count": 3,
     "metadata": {},
     "output_type": "execute_result"
    }
   ],
   "source": [
    "# sample 20,000 observations from the raw data set\n",
    "raw_sample_flight_data = raw_full_flight_data.sample(n=20000, random_state=12)\n",
    "\n",
    "# save the sample data set\n",
    "raw_sample_flight_data.to_csv(\"../data/processed/raw_sample_flight_data.csv\")\n",
    "\n",
    "# check shape of sample to confirm the sampling worked\n",
    "raw_sample_flight_data.shape"
   ]
  },
  {
   "cell_type": "markdown",
   "metadata": {},
   "source": [
    "Let's clean our sample data by only keeping the features of interest and the target column in our data.  \n",
    "\n",
    "Features:\n",
    "- Month (`MONTH`)\n",
    "- Day of Week (`DAY_OF_WEEK`)\n",
    "- Number of concurrent flights leaving from the airport in the same departure block (`CONCURRENT_FLIGHTS`)\n",
    "- Carrier (`CARRIER_NAME`)\n",
    "- Number of flight attendants per passenger for airline (`FLT_ATTENDANTS_PER_PASS`)\n",
    "- Number of ground service employees (service desk) per passenger for airline (`GROUND_SERV_PER_PASS`)\n",
    "- Age of departing aircraft (`PLANE_AGE`)\n",
    "- Departing airport (`DEPARTING_AIRPORT`)\n",
    "- Previous airport that the aircraft departed from (`PREVIOUS_AIRPORT`)\n",
    "- Inches of snowfall for on departure day (`SNOW`)\n",
    "- Max wind speed for on departure day (`AWND`)\n",
    "\n",
    "Target:\n",
    "- If the departing flight is delayed over 15 minutes or not (`DEP_DEL15`)\n",
    "\n",
    "Then, we'll split the data into training and testing sets."
   ]
  },
  {
   "cell_type": "code",
   "execution_count": 4,
   "metadata": {},
   "outputs": [],
   "source": [
    "# list of features and target (DEP_DEL15) columns\n",
    "list_of_features_and_target = ['MONTH', 'DAY_OF_WEEK', 'DEP_DEL15', 'CONCURRENT_FLIGHTS', 'CARRIER_NAME',\n",
    " 'FLT_ATTENDANTS_PER_PASS', 'GROUND_SERV_PER_PASS', 'PLANE_AGE',\n",
    " 'DEPARTING_AIRPORT', 'PREVIOUS_AIRPORT', 'SNOW', 'AWND']\n",
    "\n",
    "# only keep the features of interest and the target column in the data set\n",
    "filtered_sample_flight_data = raw_sample_flight_data[list_of_features_and_target]\n",
    "\n",
    "# save the filtered sample data set\n",
    "filtered_sample_flight_data.to_csv(\"../data/processed/filtered_sample_flight_data.csv\")\n",
    "\n",
    "# split filtered sample data into training and testing splits.\n",
    "flight_train, flight_test = train_test_split(filtered_sample_flight_data, test_size=0.2, random_state=12, stratify=filtered_sample_flight_data[\"DEP_DEL15\"])\n",
    "\n",
    "# save taining and test splits.\n",
    "flight_train.to_csv(\"../data/processed/training_flight_data.csv\")\n",
    "flight_test.to_csv(\"../data/processed/testing_flight_data.csv\")"
   ]
  },
  {
   "cell_type": "markdown",
   "metadata": {},
   "source": [
    "## Exploratory Data Analysis"
   ]
  },
  {
   "cell_type": "markdown",
   "metadata": {},
   "source": [
    "Let's preview the testing set and have a look at some information about the data."
   ]
  },
  {
   "cell_type": "code",
   "execution_count": 5,
   "metadata": {},
   "outputs": [
    {
     "data": {
      "text/html": [
       "<div>\n",
       "<style scoped>\n",
       "    .dataframe tbody tr th:only-of-type {\n",
       "        vertical-align: middle;\n",
       "    }\n",
       "\n",
       "    .dataframe tbody tr th {\n",
       "        vertical-align: top;\n",
       "    }\n",
       "\n",
       "    .dataframe thead th {\n",
       "        text-align: right;\n",
       "    }\n",
       "</style>\n",
       "<table border=\"1\" class=\"dataframe\">\n",
       "  <thead>\n",
       "    <tr style=\"text-align: right;\">\n",
       "      <th></th>\n",
       "      <th>MONTH</th>\n",
       "      <th>DAY_OF_WEEK</th>\n",
       "      <th>DEP_DEL15</th>\n",
       "      <th>CONCURRENT_FLIGHTS</th>\n",
       "      <th>CARRIER_NAME</th>\n",
       "      <th>FLT_ATTENDANTS_PER_PASS</th>\n",
       "      <th>GROUND_SERV_PER_PASS</th>\n",
       "      <th>PLANE_AGE</th>\n",
       "      <th>DEPARTING_AIRPORT</th>\n",
       "      <th>PREVIOUS_AIRPORT</th>\n",
       "      <th>SNOW</th>\n",
       "      <th>AWND</th>\n",
       "    </tr>\n",
       "  </thead>\n",
       "  <tbody>\n",
       "    <tr>\n",
       "      <th>3808173</th>\n",
       "      <td>8</td>\n",
       "      <td>4</td>\n",
       "      <td>0</td>\n",
       "      <td>31</td>\n",
       "      <td>United Air Lines Inc.</td>\n",
       "      <td>0.000254</td>\n",
       "      <td>0.000229</td>\n",
       "      <td>18</td>\n",
       "      <td>Los Angeles International</td>\n",
       "      <td>NONE</td>\n",
       "      <td>0.0</td>\n",
       "      <td>8.28</td>\n",
       "    </tr>\n",
       "    <tr>\n",
       "      <th>2861285</th>\n",
       "      <td>6</td>\n",
       "      <td>7</td>\n",
       "      <td>0</td>\n",
       "      <td>20</td>\n",
       "      <td>United Air Lines Inc.</td>\n",
       "      <td>0.000254</td>\n",
       "      <td>0.000229</td>\n",
       "      <td>17</td>\n",
       "      <td>San Francisco International</td>\n",
       "      <td>NONE</td>\n",
       "      <td>0.0</td>\n",
       "      <td>12.53</td>\n",
       "    </tr>\n",
       "    <tr>\n",
       "      <th>1880876</th>\n",
       "      <td>4</td>\n",
       "      <td>5</td>\n",
       "      <td>0</td>\n",
       "      <td>64</td>\n",
       "      <td>American Eagle Airlines Inc.</td>\n",
       "      <td>0.000348</td>\n",
       "      <td>0.000107</td>\n",
       "      <td>15</td>\n",
       "      <td>Chicago O'Hare International</td>\n",
       "      <td>Truax Field</td>\n",
       "      <td>0.0</td>\n",
       "      <td>14.32</td>\n",
       "    </tr>\n",
       "    <tr>\n",
       "      <th>2861238</th>\n",
       "      <td>6</td>\n",
       "      <td>7</td>\n",
       "      <td>0</td>\n",
       "      <td>27</td>\n",
       "      <td>American Airlines Inc.</td>\n",
       "      <td>0.000098</td>\n",
       "      <td>0.000177</td>\n",
       "      <td>2</td>\n",
       "      <td>San Francisco International</td>\n",
       "      <td>NONE</td>\n",
       "      <td>0.0</td>\n",
       "      <td>12.53</td>\n",
       "    </tr>\n",
       "    <tr>\n",
       "      <th>5617638</th>\n",
       "      <td>11</td>\n",
       "      <td>6</td>\n",
       "      <td>0</td>\n",
       "      <td>57</td>\n",
       "      <td>United Air Lines Inc.</td>\n",
       "      <td>0.000254</td>\n",
       "      <td>0.000229</td>\n",
       "      <td>21</td>\n",
       "      <td>Chicago O'Hare International</td>\n",
       "      <td>Pittsburgh International</td>\n",
       "      <td>0.0</td>\n",
       "      <td>6.26</td>\n",
       "    </tr>\n",
       "  </tbody>\n",
       "</table>\n",
       "</div>"
      ],
      "text/plain": [
       "         MONTH  DAY_OF_WEEK  DEP_DEL15  CONCURRENT_FLIGHTS  \\\n",
       "3808173      8            4          0                  31   \n",
       "2861285      6            7          0                  20   \n",
       "1880876      4            5          0                  64   \n",
       "2861238      6            7          0                  27   \n",
       "5617638     11            6          0                  57   \n",
       "\n",
       "                         CARRIER_NAME  FLT_ATTENDANTS_PER_PASS  \\\n",
       "3808173         United Air Lines Inc.                 0.000254   \n",
       "2861285         United Air Lines Inc.                 0.000254   \n",
       "1880876  American Eagle Airlines Inc.                 0.000348   \n",
       "2861238        American Airlines Inc.                 0.000098   \n",
       "5617638         United Air Lines Inc.                 0.000254   \n",
       "\n",
       "         GROUND_SERV_PER_PASS  PLANE_AGE             DEPARTING_AIRPORT  \\\n",
       "3808173              0.000229         18     Los Angeles International   \n",
       "2861285              0.000229         17   San Francisco International   \n",
       "1880876              0.000107         15  Chicago O'Hare International   \n",
       "2861238              0.000177          2   San Francisco International   \n",
       "5617638              0.000229         21  Chicago O'Hare International   \n",
       "\n",
       "                 PREVIOUS_AIRPORT  SNOW   AWND  \n",
       "3808173                      NONE   0.0   8.28  \n",
       "2861285                      NONE   0.0  12.53  \n",
       "1880876               Truax Field   0.0  14.32  \n",
       "2861238                      NONE   0.0  12.53  \n",
       "5617638  Pittsburgh International   0.0   6.26  "
      ]
     },
     "execution_count": 5,
     "metadata": {},
     "output_type": "execute_result"
    }
   ],
   "source": [
    "flight_train.head()"
   ]
  },
  {
   "cell_type": "markdown",
   "metadata": {},
   "source": [
    "*Table 1. Preview of the training flight data.*"
   ]
  },
  {
   "cell_type": "code",
   "execution_count": 6,
   "metadata": {},
   "outputs": [
    {
     "name": "stdout",
     "output_type": "stream",
     "text": [
      "<class 'pandas.core.frame.DataFrame'>\n",
      "Index: 20000 entries, 4784886 to 2124261\n",
      "Data columns (total 12 columns):\n",
      " #   Column                   Non-Null Count  Dtype  \n",
      "---  ------                   --------------  -----  \n",
      " 0   MONTH                    20000 non-null  int64  \n",
      " 1   DAY_OF_WEEK              20000 non-null  int64  \n",
      " 2   DEP_DEL15                20000 non-null  int64  \n",
      " 3   CONCURRENT_FLIGHTS       20000 non-null  int64  \n",
      " 4   CARRIER_NAME             20000 non-null  object \n",
      " 5   FLT_ATTENDANTS_PER_PASS  20000 non-null  float64\n",
      " 6   GROUND_SERV_PER_PASS     20000 non-null  float64\n",
      " 7   PLANE_AGE                20000 non-null  int64  \n",
      " 8   DEPARTING_AIRPORT        20000 non-null  object \n",
      " 9   PREVIOUS_AIRPORT         20000 non-null  object \n",
      " 10  SNOW                     20000 non-null  float64\n",
      " 11  AWND                     20000 non-null  float64\n",
      "dtypes: float64(4), int64(5), object(3)\n",
      "memory usage: 2.0+ MB\n"
     ]
    }
   ],
   "source": [
    "filtered_sample_flight_data.info()"
   ]
  },
  {
   "cell_type": "markdown",
   "metadata": {},
   "source": [
    "We can see that there are no null values in any of the columns. To gain more insight into the training data, the following data visualizations were made to see the distribution of the different feature variables and target variable."
   ]
  },
  {
   "cell_type": "markdown",
   "metadata": {},
   "source": [
    "## Discussion"
   ]
  },
  {
   "cell_type": "markdown",
   "metadata": {},
   "source": [
    "## References"
   ]
  }
 ],
 "metadata": {
  "kernelspec": {
   "display_name": "airline_project_env",
   "language": "python",
   "name": "python3"
  },
  "language_info": {
   "codemirror_mode": {
    "name": "ipython",
    "version": 3
   },
   "file_extension": ".py",
   "mimetype": "text/x-python",
   "name": "python",
   "nbconvert_exporter": "python",
   "pygments_lexer": "ipython3",
   "version": "3.12.1"
  }
 },
 "nbformat": 4,
 "nbformat_minor": 2
}
