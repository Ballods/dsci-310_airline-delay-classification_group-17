{
 "cells": [
  {
   "cell_type": "markdown",
   "metadata": {},
   "source": [
    "# Title"
   ]
  },
  {
   "cell_type": "markdown",
   "metadata": {},
   "source": [
    "## Summary"
   ]
  },
  {
   "cell_type": "markdown",
   "metadata": {},
   "source": [
    "## Introduction"
   ]
  },
  {
   "cell_type": "markdown",
   "metadata": {},
   "source": [
    "## Methods and Results"
   ]
  },
  {
   "cell_type": "markdown",
   "metadata": {},
   "source": [
    "To start, we will import the required libraries for our analysis, set the random state to generate reproducible results, and read in the data."
   ]
  },
  {
   "cell_type": "code",
   "execution_count": 1,
   "metadata": {},
   "outputs": [],
   "source": [
    "# import required libraries for analysis\n",
    "import altair as alt\n",
    "import pandas as pd\n",
    "import numpy as np\n",
    "import sklearn\n",
    "from sklearn.model_selection import train_test_split\n",
    "from sklearn.dummy import DummyClassifier\n",
    "from sklearn.model_selection import train_test_split, cross_validate, GridSearchCV, RandomizedSearchCV\n",
    "from sklearn.preprocessing import (FunctionTransformer, Normalizer, OneHotEncoder, StandardScaler, normalize, scale)\n",
    "from sklearn.compose import make_column_transformer\n",
    "from sklearn.metrics import make_scorer\n",
    "from sklearn.metrics import accuracy_score, precision_score, recall_score, f1_score\n",
    "from sklearn.pipeline import Pipeline, make_pipeline\n",
    "from sklearn.neighbors import KNeighborsClassifier\n",
    "from sklearn.metrics import  confusion_matrix, ConfusionMatrixDisplay, classification_report\n",
    "\n",
    "# set random state to have reproducible results\n",
    "random_state=12\n",
    "\n",
    "# read in data\n",
    "raw_full_flight_data = pd.read_csv(\"../data/raw/full_data_flightdelay.csv\")"
   ]
  },
  {
   "cell_type": "markdown",
   "metadata": {},
   "source": [
    "Let's see how big the data set is."
   ]
  },
  {
   "cell_type": "code",
   "execution_count": 2,
   "metadata": {},
   "outputs": [
    {
     "data": {
      "text/plain": [
       "(6489062, 26)"
      ]
     },
     "execution_count": 2,
     "metadata": {},
     "output_type": "execute_result"
    }
   ],
   "source": [
    "raw_full_flight_data.shape"
   ]
  },
  {
   "cell_type": "markdown",
   "metadata": {},
   "source": [
    "There are 6,489,062 observations in the raw data set. Since such a large data set will take a lot of computing power and time, we will take sample of the data (20,000 observations) and use it in our analysis."
   ]
  },
  {
   "cell_type": "code",
   "execution_count": 3,
   "metadata": {},
   "outputs": [
    {
     "data": {
      "text/plain": [
       "(20000, 26)"
      ]
     },
     "execution_count": 3,
     "metadata": {},
     "output_type": "execute_result"
    }
   ],
   "source": [
    "# sample 20,000 observations from the raw data set\n",
    "raw_sample_flight_data = raw_full_flight_data.sample(n=20000, random_state=12)\n",
    "\n",
    "# save the sample data set\n",
    "raw_sample_flight_data.to_csv(\"../data/processed/raw_sample_flight_data.csv\")\n",
    "\n",
    "# check shape of sample to confirm the sampling worked\n",
    "raw_sample_flight_data.shape"
   ]
  },
  {
   "cell_type": "markdown",
   "metadata": {},
   "source": [
    "Let's clean our sample data by only keeping the features of interest and the target column in our data.  \n",
    "\n",
    "Features:\n",
    "- Month (`MONTH`)\n",
    "- Day of Week (`DAY_OF_WEEK`)\n",
    "- Number of concurrent flights leaving from the airport in the same departure block (`CONCURRENT_FLIGHTS`)\n",
    "- Carrier (`CARRIER_NAME`)\n",
    "- Number of flight attendants per passenger for airline (`FLT_ATTENDANTS_PER_PASS`)\n",
    "- Number of ground service employees (service desk) per passenger for airline (`GROUND_SERV_PER_PASS`)\n",
    "- Age of departing aircraft (`PLANE_AGE`)\n",
    "- Inches of snowfall for on departure day (`SNOW`)\n",
    "- Max wind speed for on departure day (`AWND`)\n",
    "\n",
    "Target:\n",
    "- If the departing flight is delayed over 15 minutes or not (`DEP_DEL15`, `0` = no and `1` = yes)\n",
    "\n",
    "Then, we'll split the data into training and testing sets."
   ]
  },
  {
   "cell_type": "code",
   "execution_count": 4,
   "metadata": {},
   "outputs": [],
   "source": [
    "# list of features and target (DEP_DEL15) columns\n",
    "list_of_features_and_target = ['MONTH', 'DAY_OF_WEEK', 'DEP_DEL15', 'CONCURRENT_FLIGHTS', 'CARRIER_NAME',\n",
    " 'FLT_ATTENDANTS_PER_PASS', 'GROUND_SERV_PER_PASS', 'PLANE_AGE', 'SNOW', 'AWND']\n",
    "\n",
    "# only keep the features of interest and the target column in the data set\n",
    "filtered_sample_flight_data = raw_sample_flight_data[list_of_features_and_target]\n",
    "\n",
    "# save the filtered sample data set\n",
    "filtered_sample_flight_data.to_csv(\"../data/processed/filtered_sample_flight_data.csv\")\n",
    "\n",
    "# split filtered sample data into training and testing splits.\n",
    "flight_train, flight_test = train_test_split(filtered_sample_flight_data, test_size=0.2, random_state=12, stratify=filtered_sample_flight_data[\"DEP_DEL15\"])"
   ]
  },
  {
   "cell_type": "markdown",
   "metadata": {},
   "source": [
    "### Exploratory Data Analysis"
   ]
  },
  {
   "cell_type": "markdown",
   "metadata": {},
   "source": [
    "Let's preview the testing set and have a look at some information about the data."
   ]
  },
  {
   "cell_type": "code",
   "execution_count": 5,
   "metadata": {},
   "outputs": [
    {
     "data": {
      "text/html": [
       "<div>\n",
       "<style scoped>\n",
       "    .dataframe tbody tr th:only-of-type {\n",
       "        vertical-align: middle;\n",
       "    }\n",
       "\n",
       "    .dataframe tbody tr th {\n",
       "        vertical-align: top;\n",
       "    }\n",
       "\n",
       "    .dataframe thead th {\n",
       "        text-align: right;\n",
       "    }\n",
       "</style>\n",
       "<table border=\"1\" class=\"dataframe\">\n",
       "  <thead>\n",
       "    <tr style=\"text-align: right;\">\n",
       "      <th></th>\n",
       "      <th>MONTH</th>\n",
       "      <th>DAY_OF_WEEK</th>\n",
       "      <th>DEP_DEL15</th>\n",
       "      <th>CONCURRENT_FLIGHTS</th>\n",
       "      <th>CARRIER_NAME</th>\n",
       "      <th>FLT_ATTENDANTS_PER_PASS</th>\n",
       "      <th>GROUND_SERV_PER_PASS</th>\n",
       "      <th>PLANE_AGE</th>\n",
       "      <th>SNOW</th>\n",
       "      <th>AWND</th>\n",
       "    </tr>\n",
       "  </thead>\n",
       "  <tbody>\n",
       "    <tr>\n",
       "      <th>3808173</th>\n",
       "      <td>8</td>\n",
       "      <td>4</td>\n",
       "      <td>0</td>\n",
       "      <td>31</td>\n",
       "      <td>United Air Lines Inc.</td>\n",
       "      <td>0.000254</td>\n",
       "      <td>0.000229</td>\n",
       "      <td>18</td>\n",
       "      <td>0.0</td>\n",
       "      <td>8.28</td>\n",
       "    </tr>\n",
       "    <tr>\n",
       "      <th>2861285</th>\n",
       "      <td>6</td>\n",
       "      <td>7</td>\n",
       "      <td>0</td>\n",
       "      <td>20</td>\n",
       "      <td>United Air Lines Inc.</td>\n",
       "      <td>0.000254</td>\n",
       "      <td>0.000229</td>\n",
       "      <td>17</td>\n",
       "      <td>0.0</td>\n",
       "      <td>12.53</td>\n",
       "    </tr>\n",
       "    <tr>\n",
       "      <th>1880876</th>\n",
       "      <td>4</td>\n",
       "      <td>5</td>\n",
       "      <td>0</td>\n",
       "      <td>64</td>\n",
       "      <td>American Eagle Airlines Inc.</td>\n",
       "      <td>0.000348</td>\n",
       "      <td>0.000107</td>\n",
       "      <td>15</td>\n",
       "      <td>0.0</td>\n",
       "      <td>14.32</td>\n",
       "    </tr>\n",
       "    <tr>\n",
       "      <th>2861238</th>\n",
       "      <td>6</td>\n",
       "      <td>7</td>\n",
       "      <td>0</td>\n",
       "      <td>27</td>\n",
       "      <td>American Airlines Inc.</td>\n",
       "      <td>0.000098</td>\n",
       "      <td>0.000177</td>\n",
       "      <td>2</td>\n",
       "      <td>0.0</td>\n",
       "      <td>12.53</td>\n",
       "    </tr>\n",
       "    <tr>\n",
       "      <th>5617638</th>\n",
       "      <td>11</td>\n",
       "      <td>6</td>\n",
       "      <td>0</td>\n",
       "      <td>57</td>\n",
       "      <td>United Air Lines Inc.</td>\n",
       "      <td>0.000254</td>\n",
       "      <td>0.000229</td>\n",
       "      <td>21</td>\n",
       "      <td>0.0</td>\n",
       "      <td>6.26</td>\n",
       "    </tr>\n",
       "  </tbody>\n",
       "</table>\n",
       "</div>"
      ],
      "text/plain": [
       "         MONTH  DAY_OF_WEEK  DEP_DEL15  CONCURRENT_FLIGHTS  \\\n",
       "3808173      8            4          0                  31   \n",
       "2861285      6            7          0                  20   \n",
       "1880876      4            5          0                  64   \n",
       "2861238      6            7          0                  27   \n",
       "5617638     11            6          0                  57   \n",
       "\n",
       "                         CARRIER_NAME  FLT_ATTENDANTS_PER_PASS  \\\n",
       "3808173         United Air Lines Inc.                 0.000254   \n",
       "2861285         United Air Lines Inc.                 0.000254   \n",
       "1880876  American Eagle Airlines Inc.                 0.000348   \n",
       "2861238        American Airlines Inc.                 0.000098   \n",
       "5617638         United Air Lines Inc.                 0.000254   \n",
       "\n",
       "         GROUND_SERV_PER_PASS  PLANE_AGE  SNOW   AWND  \n",
       "3808173              0.000229         18   0.0   8.28  \n",
       "2861285              0.000229         17   0.0  12.53  \n",
       "1880876              0.000107         15   0.0  14.32  \n",
       "2861238              0.000177          2   0.0  12.53  \n",
       "5617638              0.000229         21   0.0   6.26  "
      ]
     },
     "execution_count": 5,
     "metadata": {},
     "output_type": "execute_result"
    }
   ],
   "source": [
    "flight_train.head()"
   ]
  },
  {
   "cell_type": "markdown",
   "metadata": {},
   "source": [
    "*Table 1. Preview of the training flight data.*"
   ]
  },
  {
   "cell_type": "code",
   "execution_count": 6,
   "metadata": {},
   "outputs": [
    {
     "name": "stdout",
     "output_type": "stream",
     "text": [
      "<class 'pandas.core.frame.DataFrame'>\n",
      "Index: 16000 entries, 3808173 to 2731743\n",
      "Data columns (total 10 columns):\n",
      " #   Column                   Non-Null Count  Dtype  \n",
      "---  ------                   --------------  -----  \n",
      " 0   MONTH                    16000 non-null  int64  \n",
      " 1   DAY_OF_WEEK              16000 non-null  int64  \n",
      " 2   DEP_DEL15                16000 non-null  int64  \n",
      " 3   CONCURRENT_FLIGHTS       16000 non-null  int64  \n",
      " 4   CARRIER_NAME             16000 non-null  object \n",
      " 5   FLT_ATTENDANTS_PER_PASS  16000 non-null  float64\n",
      " 6   GROUND_SERV_PER_PASS     16000 non-null  float64\n",
      " 7   PLANE_AGE                16000 non-null  int64  \n",
      " 8   SNOW                     16000 non-null  float64\n",
      " 9   AWND                     16000 non-null  float64\n",
      "dtypes: float64(4), int64(5), object(1)\n",
      "memory usage: 1.3+ MB\n"
     ]
    }
   ],
   "source": [
    "flight_train.info()"
   ]
  },
  {
   "cell_type": "markdown",
   "metadata": {},
   "source": [
    "We can see that there are no null values in any of the columns. To gain more insight into the training data, the following data visualizations were made to see the distribution of the different feature variables and target variable."
   ]
  },
  {
   "cell_type": "code",
   "execution_count": 7,
   "metadata": {},
   "outputs": [],
   "source": [
    "## EDA vizs"
   ]
  },
  {
   "cell_type": "markdown",
   "metadata": {},
   "source": [
    "### Preprocessing the Data"
   ]
  },
  {
   "cell_type": "markdown",
   "metadata": {},
   "source": [
    "Since the KNN algorithm uses Euclidian distance to determine how similar data points are to each cluster center, we will center and scale each numeric feature in our preprocessing so they have the same effect on deciding cluster assignment. We will consider the `month` and `day of the week` as numeric features, as they are represented in the dataset to preserve the ordinal element -- however we will concede that this would make the model consider Saturday (`7`) and Sunday (`1`) as far apart. This won't be a problem for the `months` since the data only has observations from 2019.  \n",
    "\n",
    "Saturdays and Sundays should be considered closer together since they are on weekends, we will change Sundays' value to `8`. The model will consider Sundays and Mondays to be further apart as a result, but we feel that this is a better trade-off.\n",
    "\n",
    "To allow our categorical features to be used as predictors, we will preprocess them using one-hot encoding.\n",
    "\n",
    "No imputation is needed since there are no missing values in the dataset."
   ]
  },
  {
   "cell_type": "code",
   "execution_count": 8,
   "metadata": {},
   "outputs": [
    {
     "name": "stdout",
     "output_type": "stream",
     "text": [
      "count    16000.000000\n",
      "mean         4.979125\n",
      "std          2.009681\n",
      "min          2.000000\n",
      "25%          3.000000\n",
      "50%          5.000000\n",
      "75%          7.000000\n",
      "max          8.000000\n",
      "Name: DAY_OF_WEEK, dtype: float64 count    4000.000000\n",
      "mean        4.988750\n",
      "std         2.012371\n",
      "min         2.000000\n",
      "25%         3.000000\n",
      "50%         5.000000\n",
      "75%         7.000000\n",
      "max         8.000000\n",
      "Name: DAY_OF_WEEK, dtype: float64\n"
     ]
    }
   ],
   "source": [
    "# replace Sunday's value from 1 to 8, to be closer to Saturday's value (7)\n",
    "flight_train.loc[flight_train['DAY_OF_WEEK']==1, 'DAY_OF_WEEK']=8\n",
    "flight_test.loc[flight_test['DAY_OF_WEEK']==1, 'DAY_OF_WEEK']=8\n",
    "\n",
    "# save taining and test splits.\n",
    "flight_train.to_csv(\"../data/processed/training_flight_data.csv\")\n",
    "flight_test.to_csv(\"../data/processed/testing_flight_data.csv\")\n",
    "\n",
    "# check if the replacement worked\n",
    "print(flight_train['DAY_OF_WEEK'].describe(), flight_test['DAY_OF_WEEK'].describe())"
   ]
  },
  {
   "cell_type": "code",
   "execution_count": 9,
   "metadata": {},
   "outputs": [],
   "source": [
    "# separate feature vectors from target\n",
    "X_train = flight_train.drop(columns = [\"DEP_DEL15\"])\n",
    "y_train = flight_train[\"DEP_DEL15\"]\n",
    "X_test = flight_test.drop(columns = [\"DEP_DEL15\"])\n",
    "y_test = flight_test[\"DEP_DEL15\"]\n",
    "\n",
    "# preprocess features\n",
    "numeric_features = ['MONTH', 'DAY_OF_WEEK', 'CONCURRENT_FLIGHTS', 'FLT_ATTENDANTS_PER_PASS',\n",
    "                    'GROUND_SERV_PER_PASS', 'PLANE_AGE', 'SNOW', 'AWND']\n",
    "numeric_transformer = make_pipeline(StandardScaler())\n",
    "\n",
    "categorical_features = ['CARRIER_NAME']\n",
    "categorical_transformer = make_pipeline(OneHotEncoder(sparse_output=False, dtype='int'))\n",
    "\n",
    "preprocessor = make_column_transformer((numeric_transformer, numeric_features),\n",
    "                                       (categorical_transformer, categorical_features))\n",
    "\n",
    "X_train = preprocessor.fit_transform(X_train)\n",
    "X_test = preprocessor.transform(X_test)"
   ]
  },
  {
   "cell_type": "markdown",
   "metadata": {},
   "source": [
    "### Baseline Model"
   ]
  },
  {
   "cell_type": "markdown",
   "metadata": {},
   "source": [
    "To create a baseline model to compare the final KNN model to, we will make a DummyClassifier that will randomly predict if the flight departure will be delayed or not, at a frequency respective to its distribution in the training data."
   ]
  },
  {
   "cell_type": "code",
   "execution_count": 10,
   "metadata": {},
   "outputs": [
    {
     "data": {
      "text/plain": [
       "fit_time           0.008740\n",
       "score_time         0.024389\n",
       "test_accuracy      0.695625\n",
       "train_accuracy     0.692484\n",
       "test_precision     0.188156\n",
       "train_precision    0.189657\n",
       "test_recall        0.183681\n",
       "train_recall       0.191113\n",
       "test_f1            0.185891\n",
       "train_f1           0.190382\n",
       "dtype: float64"
      ]
     },
     "execution_count": 10,
     "metadata": {},
     "output_type": "execute_result"
    }
   ],
   "source": [
    "# create baseline model to compare final model to\n",
    "scoring = {'accuracy': 'accuracy',\n",
    "           'precision': make_scorer(precision_score, pos_label=1),\n",
    "           'recall': make_scorer(recall_score, pos_label=1),\n",
    "           'f1': make_scorer(f1_score, pos_label=1) }\n",
    "\n",
    "dummy_classifier = DummyClassifier(strategy = \"stratified\", random_state = 12)\n",
    "\n",
    "dummy_scores = pd.DataFrame(\n",
    "    cross_validate(\n",
    "        dummy_classifier, X_train, y_train, cv = 5, return_train_score = True, scoring = scoring\n",
    "    )\n",
    ")\n",
    "\n",
    "dummy_mean = dummy_scores.mean()\n",
    "dummy_mean"
   ]
  },
  {
   "cell_type": "markdown",
   "metadata": {},
   "source": [
    "As shown above, the DummyClassifier has a validation score of 69.6%"
   ]
  },
  {
   "cell_type": "markdown",
   "metadata": {},
   "source": [
    "### KNN Classifier"
   ]
  },
  {
   "cell_type": "markdown",
   "metadata": {},
   "source": [
    "#### Parameter Tuning"
   ]
  },
  {
   "cell_type": "markdown",
   "metadata": {},
   "source": [
    "To find the optimal value of k that maximizes the accuracy of the model, we will use 5-fold cross-validation for values of k from 10 to 40, in increments of 2."
   ]
  },
  {
   "cell_type": "code",
   "execution_count": 11,
   "metadata": {},
   "outputs": [
    {
     "data": {
      "text/html": [
       "<div>\n",
       "<style scoped>\n",
       "    .dataframe tbody tr th:only-of-type {\n",
       "        vertical-align: middle;\n",
       "    }\n",
       "\n",
       "    .dataframe tbody tr th {\n",
       "        vertical-align: top;\n",
       "    }\n",
       "\n",
       "    .dataframe thead th {\n",
       "        text-align: right;\n",
       "    }\n",
       "</style>\n",
       "<table border=\"1\" class=\"dataframe\">\n",
       "  <thead>\n",
       "    <tr style=\"text-align: right;\">\n",
       "      <th></th>\n",
       "      <th>n_neighbors</th>\n",
       "      <th>mean_train_score</th>\n",
       "      <th>mean_cv_score</th>\n",
       "    </tr>\n",
       "  </thead>\n",
       "  <tbody>\n",
       "    <tr>\n",
       "      <th>12</th>\n",
       "      <td>34</td>\n",
       "      <td>0.810953</td>\n",
       "      <td>0.810875</td>\n",
       "    </tr>\n",
       "  </tbody>\n",
       "</table>\n",
       "</div>"
      ],
      "text/plain": [
       "    n_neighbors  mean_train_score  mean_cv_score\n",
       "12           34          0.810953       0.810875"
      ]
     },
     "execution_count": 11,
     "metadata": {},
     "output_type": "execute_result"
    }
   ],
   "source": [
    "# find the k value that yields the best accuracy estimate\n",
    "results_dict = {\n",
    "    \"n_neighbors\": [],\n",
    "    \"mean_train_score\": [],\n",
    "    \"mean_cv_score\": []}\n",
    "\n",
    "for n in range(10,41, 2):\n",
    "    knn_model = KNeighborsClassifier(n_neighbors=n)\n",
    "    cv_scores = cross_validate(knn_model, X_train, y_train, cv=5, return_train_score=True)\n",
    "    results_dict[\"n_neighbors\"].append(n)\n",
    "    results_dict[\"mean_train_score\"].append(cv_scores[\"train_score\"].mean())\n",
    "    results_dict[\"mean_cv_score\"].append(cv_scores[\"test_score\"].mean())\n",
    "\n",
    "results_df = pd.DataFrame(results_dict)\n",
    "\n",
    "results_df.sort_values(by=[\"mean_cv_score\"], ascending=False).head(1)"
   ]
  },
  {
   "cell_type": "code",
   "execution_count": 12,
   "metadata": {},
   "outputs": [
    {
     "data": {
      "text/plain": [
       "34"
      ]
     },
     "execution_count": 12,
     "metadata": {},
     "output_type": "execute_result"
    }
   ],
   "source": [
    "best_k = int(results_df.loc[results_df['mean_cv_score'].idxmax()]['n_neighbors'])\n",
    "best_k"
   ]
  },
  {
   "cell_type": "markdown",
   "metadata": {},
   "source": [
    "As shown above, 34 is the best k value from 10 to 40 in increments of 2 and yields a validation score of 81.1% which is higher compared to the validation score of the DummyClassifier (69.6%)."
   ]
  },
  {
   "cell_type": "markdown",
   "metadata": {},
   "source": [
    "#### Training and Testing"
   ]
  },
  {
   "cell_type": "code",
   "execution_count": 13,
   "metadata": {},
   "outputs": [
    {
     "data": {
      "text/plain": [
       "0.81075"
      ]
     },
     "execution_count": 13,
     "metadata": {},
     "output_type": "execute_result"
    }
   ],
   "source": [
    "# make new model with best k\n",
    "best_model = KNeighborsClassifier(n_neighbors=best_k)\n",
    "\n",
    "# retrain classifier\n",
    "best_model.fit(X_train, y_train)\n",
    "\n",
    "# get predictions on test data\n",
    "best_model.predict(X_test)\n",
    "\n",
    "# get estimate of accuracy of classifier on test data\n",
    "test_score = best_model.score(X_test, y_test)\n",
    "test_score"
   ]
  },
  {
   "cell_type": "markdown",
   "metadata": {},
   "source": [
    "The accuracy score of the knn classifier with k=34 on the test set is 81.1%."
   ]
  },
  {
   "cell_type": "markdown",
   "metadata": {},
   "source": [
    "#### Exploring the Model"
   ]
  },
  {
   "cell_type": "markdown",
   "metadata": {},
   "source": [
    "Let’s explore the model with more visualizations."
   ]
  },
  {
   "cell_type": "code",
   "execution_count": 14,
   "metadata": {},
   "outputs": [
    {
     "data": {
      "text/html": [
       "<div>\n",
       "<style scoped>\n",
       "    .dataframe tbody tr th:only-of-type {\n",
       "        vertical-align: middle;\n",
       "    }\n",
       "\n",
       "    .dataframe tbody tr th {\n",
       "        vertical-align: top;\n",
       "    }\n",
       "\n",
       "    .dataframe thead th {\n",
       "        text-align: right;\n",
       "    }\n",
       "</style>\n",
       "<table border=\"1\" class=\"dataframe\">\n",
       "  <thead>\n",
       "    <tr style=\"text-align: right;\">\n",
       "      <th></th>\n",
       "      <th>index</th>\n",
       "      <th>MONTH</th>\n",
       "      <th>DAY_OF_WEEK</th>\n",
       "      <th>DEP_DEL15</th>\n",
       "      <th>CONCURRENT_FLIGHTS</th>\n",
       "      <th>CARRIER_NAME</th>\n",
       "      <th>FLT_ATTENDANTS_PER_PASS</th>\n",
       "      <th>GROUND_SERV_PER_PASS</th>\n",
       "      <th>PLANE_AGE</th>\n",
       "      <th>SNOW</th>\n",
       "      <th>AWND</th>\n",
       "      <th>prediction</th>\n",
       "    </tr>\n",
       "  </thead>\n",
       "  <tbody>\n",
       "    <tr>\n",
       "      <th>0</th>\n",
       "      <td>1742730</td>\n",
       "      <td>4</td>\n",
       "      <td>7</td>\n",
       "      <td>1</td>\n",
       "      <td>79</td>\n",
       "      <td>American Airlines Inc.</td>\n",
       "      <td>0.000098</td>\n",
       "      <td>0.000177</td>\n",
       "      <td>9</td>\n",
       "      <td>0.0</td>\n",
       "      <td>4.47</td>\n",
       "      <td>0</td>\n",
       "    </tr>\n",
       "    <tr>\n",
       "      <th>1</th>\n",
       "      <td>4205374</td>\n",
       "      <td>8</td>\n",
       "      <td>5</td>\n",
       "      <td>1</td>\n",
       "      <td>55</td>\n",
       "      <td>Southwest Airlines Co.</td>\n",
       "      <td>0.000062</td>\n",
       "      <td>0.000099</td>\n",
       "      <td>12</td>\n",
       "      <td>0.0</td>\n",
       "      <td>8.50</td>\n",
       "      <td>0</td>\n",
       "    </tr>\n",
       "    <tr>\n",
       "      <th>2</th>\n",
       "      <td>2994400</td>\n",
       "      <td>6</td>\n",
       "      <td>4</td>\n",
       "      <td>0</td>\n",
       "      <td>6</td>\n",
       "      <td>United Air Lines Inc.</td>\n",
       "      <td>0.000254</td>\n",
       "      <td>0.000229</td>\n",
       "      <td>18</td>\n",
       "      <td>0.0</td>\n",
       "      <td>7.38</td>\n",
       "      <td>0</td>\n",
       "    </tr>\n",
       "    <tr>\n",
       "      <th>3</th>\n",
       "      <td>2706197</td>\n",
       "      <td>6</td>\n",
       "      <td>6</td>\n",
       "      <td>0</td>\n",
       "      <td>25</td>\n",
       "      <td>American Eagle Airlines Inc.</td>\n",
       "      <td>0.000348</td>\n",
       "      <td>0.000107</td>\n",
       "      <td>14</td>\n",
       "      <td>0.0</td>\n",
       "      <td>6.04</td>\n",
       "      <td>0</td>\n",
       "    </tr>\n",
       "    <tr>\n",
       "      <th>4</th>\n",
       "      <td>1193332</td>\n",
       "      <td>3</td>\n",
       "      <td>3</td>\n",
       "      <td>0</td>\n",
       "      <td>28</td>\n",
       "      <td>Endeavor Air Inc.</td>\n",
       "      <td>0.000000</td>\n",
       "      <td>0.000094</td>\n",
       "      <td>10</td>\n",
       "      <td>0.0</td>\n",
       "      <td>16.33</td>\n",
       "      <td>0</td>\n",
       "    </tr>\n",
       "  </tbody>\n",
       "</table>\n",
       "</div>"
      ],
      "text/plain": [
       "     index  MONTH  DAY_OF_WEEK  DEP_DEL15  CONCURRENT_FLIGHTS  \\\n",
       "0  1742730      4            7          1                  79   \n",
       "1  4205374      8            5          1                  55   \n",
       "2  2994400      6            4          0                   6   \n",
       "3  2706197      6            6          0                  25   \n",
       "4  1193332      3            3          0                  28   \n",
       "\n",
       "                   CARRIER_NAME  FLT_ATTENDANTS_PER_PASS  \\\n",
       "0        American Airlines Inc.                 0.000098   \n",
       "1        Southwest Airlines Co.                 0.000062   \n",
       "2         United Air Lines Inc.                 0.000254   \n",
       "3  American Eagle Airlines Inc.                 0.000348   \n",
       "4             Endeavor Air Inc.                 0.000000   \n",
       "\n",
       "   GROUND_SERV_PER_PASS  PLANE_AGE  SNOW   AWND  prediction  \n",
       "0              0.000177          9   0.0   4.47           0  \n",
       "1              0.000099         12   0.0   8.50           0  \n",
       "2              0.000229         18   0.0   7.38           0  \n",
       "3              0.000107         14   0.0   6.04           0  \n",
       "4              0.000094         10   0.0  16.33           0  "
      ]
     },
     "execution_count": 14,
     "metadata": {},
     "output_type": "execute_result"
    }
   ],
   "source": [
    "predictions = best_model.predict(X_test)\n",
    "\n",
    "# make the predictions into a dataframe and rename the prediction column to \"prediction\"\n",
    "prediction_df = pd.DataFrame(predictions)\n",
    "prediction_df = prediction_df.rename(columns={prediction_df.columns[0]:'prediction'})\n",
    "\n",
    "# reset index of testing dataframe\n",
    "flight_test = flight_test.reset_index()\n",
    "\n",
    "# concatenate the prediction dataframe to the testing dataframe\n",
    "flight_test_predict = pd.concat([flight_test, prediction_df], axis=1)\n",
    "\n",
    "# preview the testing dataframe with the model predictions\n",
    "flight_test_predict.head()"
   ]
  },
  {
   "cell_type": "markdown",
   "metadata": {},
   "source": [
    "*Table 2. Preview of the testing data with the model predictions*"
   ]
  },
  {
   "cell_type": "markdown",
   "metadata": {},
   "source": [
    "## Discussion"
   ]
  },
  {
   "cell_type": "markdown",
   "metadata": {},
   "source": [
    "## References"
   ]
  }
 ],
 "metadata": {
  "kernelspec": {
   "display_name": "airline_project_env",
   "language": "python",
   "name": "python3"
  },
  "language_info": {
   "codemirror_mode": {
    "name": "ipython",
    "version": 3
   },
   "file_extension": ".py",
   "mimetype": "text/x-python",
   "name": "python",
   "nbconvert_exporter": "python",
   "pygments_lexer": "ipython3",
   "version": "3.12.1"
  }
 },
 "nbformat": 4,
 "nbformat_minor": 2
}
